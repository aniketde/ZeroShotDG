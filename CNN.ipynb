{
 "cells": [
  {
   "cell_type": "code",
   "execution_count": 2,
   "metadata": {},
   "outputs": [],
   "source": [
    "import torch\n",
    "import torchvision\n",
    "import torchvision.transforms as transforms\n",
    "import torchvision.datasets as datasets\n",
    "import torch.nn as nn\n",
    "import torch.nn.functional as F\n",
    "from torch.autograd import Variable"
   ]
  },
  {
   "cell_type": "code",
   "execution_count": 6,
   "metadata": {},
   "outputs": [
    {
     "name": "stderr",
     "output_type": "stream",
     "text": [
      "\r",
      "0it [00:00, ?it/s]"
     ]
    },
    {
     "name": "stdout",
     "output_type": "stream",
     "text": [
      "Downloading http://yann.lecun.com/exdb/mnist/train-images-idx3-ubyte.gz to data/MNIST/raw/train-images-idx3-ubyte.gz\n"
     ]
    },
    {
     "name": "stderr",
     "output_type": "stream",
     "text": [
      "100%|█████████▉| 9871360/9912422 [02:32<00:00, 63354.38it/s] "
     ]
    },
    {
     "name": "stdout",
     "output_type": "stream",
     "text": [
      "Extracting data/MNIST/raw/train-images-idx3-ubyte.gz to data/MNIST/raw\n"
     ]
    },
    {
     "name": "stderr",
     "output_type": "stream",
     "text": [
      "\n",
      "0it [00:00, ?it/s]\u001b[A"
     ]
    },
    {
     "name": "stdout",
     "output_type": "stream",
     "text": [
      "Downloading http://yann.lecun.com/exdb/mnist/train-labels-idx1-ubyte.gz to data/MNIST/raw/train-labels-idx1-ubyte.gz\n"
     ]
    },
    {
     "name": "stderr",
     "output_type": "stream",
     "text": [
      "\n",
      "  0%|          | 0/28881 [00:04<?, ?it/s]\u001b[A\n",
      " 57%|█████▋    | 16384/28881 [00:05<00:01, 9954.23it/s]\u001b[A\n",
      "32768it [00:05, 5567.80it/s]                           \u001b[A\n",
      "0it [00:00, ?it/s]\u001b[A"
     ]
    },
    {
     "name": "stdout",
     "output_type": "stream",
     "text": [
      "Extracting data/MNIST/raw/train-labels-idx1-ubyte.gz to data/MNIST/raw\n",
      "Downloading http://yann.lecun.com/exdb/mnist/t10k-images-idx3-ubyte.gz to data/MNIST/raw/t10k-images-idx3-ubyte.gz\n"
     ]
    },
    {
     "name": "stderr",
     "output_type": "stream",
     "text": [
      "\n",
      "  0%|          | 0/1648877 [00:01<?, ?it/s]\u001b[A\n",
      "  1%|          | 16384/1648877 [00:01<00:28, 57221.41it/s]\u001b[A\n",
      "  2%|▏         | 40960/1648877 [00:02<00:26, 60314.78it/s]\u001b[A\n",
      "  6%|▌         | 98304/1648877 [00:02<00:22, 68218.11it/s]\u001b[A\n",
      " 10%|█         | 172032/1648877 [00:06<00:36, 40483.58it/s]\u001b[A\n",
      " 11%|█         | 180224/1648877 [00:06<01:06, 22202.63it/s]\u001b[A\n",
      " 13%|█▎        | 221184/1648877 [00:07<00:50, 28254.32it/s]\u001b[A\n",
      " 14%|█▍        | 229376/1648877 [00:07<00:55, 25593.14it/s]\u001b[A\n",
      " 15%|█▌        | 253952/1648877 [00:08<00:45, 30774.54it/s]\u001b[A\n",
      " 18%|█▊        | 294912/1648877 [00:09<00:40, 33084.57it/s]\u001b[A\n",
      " 21%|██        | 344064/1648877 [00:09<00:30, 42404.50it/s]\u001b[A\n",
      " 21%|██▏       | 352256/1648877 [00:10<00:40, 31659.74it/s]\u001b[A\n",
      " 25%|██▌       | 417792/1648877 [00:10<00:29, 41697.29it/s]\u001b[A\n",
      "9920512it [02:50, 63354.38it/s]                             [A\n",
      " 29%|██▉       | 483328/1648877 [00:11<00:21, 53287.93it/s]\u001b[A\n",
      " 32%|███▏      | 524288/1648877 [00:11<00:18, 61987.04it/s]\u001b[A\n",
      " 35%|███▍      | 573440/1648877 [00:12<00:14, 72387.30it/s]\u001b[A\n",
      " 37%|███▋      | 614400/1648877 [00:13<00:16, 63918.45it/s]\u001b[A\n",
      " 40%|████      | 663552/1648877 [00:13<00:13, 71713.67it/s]\u001b[A\n",
      " 43%|████▎     | 704512/1648877 [00:13<00:10, 87636.68it/s]\u001b[A\n",
      " 46%|████▌     | 753664/1648877 [00:14<00:09, 95203.22it/s]\u001b[A\n",
      " 47%|████▋     | 778240/1648877 [00:14<00:10, 80727.81it/s]\u001b[A\n",
      " 49%|████▊     | 802816/1648877 [00:15<00:11, 73425.40it/s]\u001b[A\n",
      " 52%|█████▏    | 851968/1648877 [00:15<00:09, 83100.93it/s]\u001b[A\n",
      " 54%|█████▎    | 884736/1648877 [00:15<00:09, 82058.94it/s]\u001b[A\n",
      " 56%|█████▌    | 925696/1648877 [00:16<00:08, 86367.63it/s]\u001b[A\n",
      " 58%|█████▊    | 958464/1648877 [00:16<00:08, 78617.69it/s]\u001b[A\n",
      " 61%|██████    | 1007616/1648877 [00:17<00:07, 87666.93it/s]\u001b[A\n",
      " 64%|██████▎   | 1048576/1648877 [00:17<00:06, 91073.34it/s]\u001b[A\n",
      " 67%|██████▋   | 1097728/1648877 [00:17<00:05, 98108.21it/s]\u001b[A\n",
      " 69%|██████▉   | 1138688/1648877 [00:18<00:05, 98754.08it/s]\u001b[A\n",
      " 72%|███████▏  | 1187840/1648877 [00:19<00:05, 87110.90it/s]\u001b[A\n",
      " 75%|███████▌  | 1236992/1648877 [00:19<00:04, 102968.49it/s]\u001b[A\n",
      " 78%|███████▊  | 1277952/1648877 [00:19<00:03, 107878.75it/s]\u001b[A\n",
      " 80%|████████  | 1327104/1648877 [00:20<00:02, 111246.47it/s]\u001b[A\n",
      " 83%|████████▎ | 1376256/1648877 [00:20<00:02, 113756.51it/s]\u001b[A\n",
      " 86%|████████▋ | 1425408/1648877 [00:21<00:02, 89644.34it/s] \u001b[A\n",
      " 88%|████████▊ | 1458176/1648877 [00:21<00:02, 80036.16it/s]\u001b[A\n",
      " 91%|█████████ | 1499136/1648877 [00:22<00:01, 84972.48it/s]\u001b[A\n",
      " 92%|█████████▏| 1523712/1648877 [00:22<00:01, 69199.25it/s]\u001b[A\n",
      " 94%|█████████▍| 1556480/1648877 [00:23<00:01, 72101.40it/s]\u001b[A\n",
      " 97%|█████████▋| 1597440/1648877 [00:23<00:00, 70132.49it/s]\u001b[A\n",
      "100%|█████████▉| 1646592/1648877 [00:24<00:00, 80261.48it/s]\u001b[A\n",
      "\n",
      "0it [00:00, ?it/s]\u001b[A\u001b[A"
     ]
    },
    {
     "name": "stdout",
     "output_type": "stream",
     "text": [
      "Extracting data/MNIST/raw/t10k-images-idx3-ubyte.gz to data/MNIST/raw\n",
      "Downloading http://yann.lecun.com/exdb/mnist/t10k-labels-idx1-ubyte.gz to data/MNIST/raw/t10k-labels-idx1-ubyte.gz\n"
     ]
    },
    {
     "name": "stderr",
     "output_type": "stream",
     "text": [
      "\n",
      "\n",
      "  0%|          | 0/4542 [00:00<?, ?it/s]\u001b[A\u001b[A\n",
      "\n",
      "8192it [00:00, 10861.51it/s]            \u001b[A\u001b[A"
     ]
    },
    {
     "name": "stdout",
     "output_type": "stream",
     "text": [
      "Extracting data/MNIST/raw/t10k-labels-idx1-ubyte.gz to data/MNIST/raw\n",
      "Processing...\n",
      "Done!\n"
     ]
    },
    {
     "name": "stderr",
     "output_type": "stream",
     "text": [
      "\n",
      "1654784it [00:41, 80261.48it/s]                             \u001b[A"
     ]
    }
   ],
   "source": [
    "transform = transforms.Compose([transforms.ToTensor()])\n",
    "\n",
    "mnist_train = datasets.MNIST(root='data/',download=True, train=True, transform=transform)\n",
    "mnist_test = datasets.MNIST(root='data/', download=True, train=False, transform=transform)\n"
   ]
  },
  {
   "cell_type": "code",
   "execution_count": 140,
   "metadata": {},
   "outputs": [],
   "source": [
    "#Loading dataset into dataloader\n",
    "batch_size = 32\n",
    "train_loader = torch.utils.data.DataLoader(dataset=mnist_train, batch_size=batch_size,shuffle=True)\n",
    "\n",
    "test_loader = torch.utils.data.DataLoader(dataset=mnist_test, batch_size=batch_size, shuffle=False)"
   ]
  },
  {
   "cell_type": "code",
   "execution_count": 141,
   "metadata": {},
   "outputs": [],
   "source": [
    "class CNN(nn.Module):\n",
    "    def __init__(self):\n",
    "        super(CNN, self).__init__()\n",
    "     \n",
    "        self.layer1 = torch.nn.Sequential(\n",
    "            nn.Conv2d(in_channels=1, out_channels=32, kernel_size=5, stride=1, padding=2),\n",
    "            nn.ReLU(),\n",
    "            nn.MaxPool2d(kernel_size=2))\n",
    "        \n",
    "        \n",
    "        self.layer2 = torch.nn.Sequential(\n",
    "            nn.Conv2d(in_channels=32, out_channels=128, kernel_size=5, stride=1, padding=2),\n",
    "            nn.ReLU(),\n",
    "            nn.MaxPool2d(kernel_size=2))\n",
    "        \n",
    "        self.sigmoid = nn.Sigmoid()\n",
    "        self.softmax = nn.Softmax(dim=1)\n",
    "        self.dropout = nn.Dropout(p=0.5)\n",
    "\n",
    "        self.fc1 = nn.Linear(128*7*7, 50,bias=True)\n",
    "        \n",
    "        self.fc2 = nn.Linear(50, 10,bias=True)\n",
    "\n",
    "\n",
    "    def forward(self, x):\n",
    "        \n",
    "        out = self.layer1(x)\n",
    "        out = self.layer2(out)\n",
    "        \n",
    "        out = out.view(out.size(0), -1)\n",
    "\n",
    "        out = self.dropout(out)\n",
    "\n",
    "        \n",
    "        out = self.fc1(out)\n",
    "        out = self.sigmoid(out)\n",
    "        out = self.fc2(out)\n",
    "        out = self.softmax(out)\n",
    "\n",
    "        \n",
    "        return out\n"
   ]
  },
  {
   "cell_type": "code",
   "execution_count": 142,
   "metadata": {},
   "outputs": [],
   "source": [
    "learning_rate = 0.001\n",
    "criterion = torch.nn.CrossEntropyLoss()\n",
    "\n",
    "\n",
    "model = CNN()\n",
    "\n",
    "\n",
    "optimizer = torch.optim.Adam(params=model.parameters(), lr=learning_rate)\n",
    "\n",
    "criterion = nn.CrossEntropyLoss()\n"
   ]
  },
  {
   "cell_type": "code",
   "execution_count": 143,
   "metadata": {
    "scrolled": true
   },
   "outputs": [
    {
     "name": "stdout",
     "output_type": "stream",
     "text": [
      "Training Started\n",
      "Epoch= 0,\t batch = 0,\t cost = 2.3001,\t accuracy = 0.03125\n",
      "Epoch= 0,\t batch = 200,\t cost = 1.7316,\t accuracy = 0.90625\n",
      "Epoch= 0,\t batch = 400,\t cost = 1.5455,\t accuracy = 0.96875\n",
      "Epoch= 0,\t batch = 600,\t cost = 1.5328,\t accuracy = 0.9375\n",
      "Epoch= 0,\t batch = 800,\t cost = 1.5054,\t accuracy = 1.0\n",
      "Epoch= 0,\t batch = 1000,\t cost = 1.4924,\t accuracy = 1.0\n",
      "Epoch= 0,\t batch = 1200,\t cost = 1.5321,\t accuracy = 0.9375\n",
      "Epoch= 0,\t batch = 1400,\t cost = 1.4705,\t accuracy = 1.0\n",
      "Epoch= 0,\t batch = 1600,\t cost = 1.4761,\t accuracy = 1.0\n",
      "Epoch= 0,\t batch = 1800,\t cost = 1.4755,\t accuracy = 1.0\n",
      "Epoch: 1, averaged cost = 1.5634\n",
      "Epoch= 1,\t batch = 0,\t cost = 1.5254,\t accuracy = 0.9375\n",
      "Epoch= 1,\t batch = 200,\t cost = 1.5057,\t accuracy = 0.96875\n",
      "Epoch= 1,\t batch = 400,\t cost = 1.4632,\t accuracy = 1.0\n",
      "Epoch= 1,\t batch = 600,\t cost = 1.4772,\t accuracy = 1.0\n",
      "Epoch= 1,\t batch = 800,\t cost = 1.4925,\t accuracy = 0.96875\n",
      "Epoch= 1,\t batch = 1000,\t cost = 1.5023,\t accuracy = 0.96875\n",
      "Epoch= 1,\t batch = 1200,\t cost = 1.4916,\t accuracy = 1.0\n",
      "Epoch= 1,\t batch = 1400,\t cost = 1.4637,\t accuracy = 1.0\n",
      "Epoch= 1,\t batch = 1600,\t cost = 1.4616,\t accuracy = 1.0\n",
      "Epoch= 1,\t batch = 1800,\t cost = 1.4955,\t accuracy = 0.96875\n",
      "Epoch: 2, averaged cost = 1.4829\n",
      "Epoch= 2,\t batch = 0,\t cost = 1.5453,\t accuracy = 0.90625\n",
      "Epoch= 2,\t batch = 200,\t cost = 1.4703,\t accuracy = 1.0\n",
      "Epoch= 2,\t batch = 400,\t cost = 1.4622,\t accuracy = 1.0\n",
      "Epoch= 2,\t batch = 600,\t cost = 1.4617,\t accuracy = 1.0\n",
      "Epoch= 2,\t batch = 800,\t cost = 1.5235,\t accuracy = 0.9375\n",
      "Epoch= 2,\t batch = 1000,\t cost = 1.4637,\t accuracy = 1.0\n",
      "Epoch= 2,\t batch = 1200,\t cost = 1.4881,\t accuracy = 0.96875\n",
      "Epoch= 2,\t batch = 1400,\t cost = 1.4674,\t accuracy = 1.0\n",
      "Epoch= 2,\t batch = 1600,\t cost = 1.4649,\t accuracy = 1.0\n",
      "Epoch= 2,\t batch = 1800,\t cost = 1.4642,\t accuracy = 1.0\n",
      "Epoch: 3, averaged cost = 1.4770\n",
      "Epoch= 3,\t batch = 0,\t cost = 1.4932,\t accuracy = 0.96875\n",
      "Epoch= 3,\t batch = 200,\t cost = 1.4613,\t accuracy = 1.0\n",
      "Epoch= 3,\t batch = 400,\t cost = 1.4633,\t accuracy = 1.0\n",
      "Epoch= 3,\t batch = 600,\t cost = 1.4623,\t accuracy = 1.0\n",
      "Epoch= 3,\t batch = 800,\t cost = 1.4654,\t accuracy = 1.0\n",
      "Epoch= 3,\t batch = 1000,\t cost = 1.4669,\t accuracy = 1.0\n",
      "Epoch= 3,\t batch = 1200,\t cost = 1.4662,\t accuracy = 1.0\n",
      "Epoch= 3,\t batch = 1400,\t cost = 1.4614,\t accuracy = 1.0\n",
      "Epoch= 3,\t batch = 1600,\t cost = 1.4635,\t accuracy = 1.0\n",
      "Epoch= 3,\t batch = 1800,\t cost = 1.4614,\t accuracy = 1.0\n",
      "Epoch: 4, averaged cost = 1.4742\n",
      "Epoch= 4,\t batch = 0,\t cost = 1.4654,\t accuracy = 1.0\n",
      "Epoch= 4,\t batch = 200,\t cost = 1.4613,\t accuracy = 1.0\n",
      "Epoch= 4,\t batch = 400,\t cost = 1.4859,\t accuracy = 0.96875\n",
      "Epoch= 4,\t batch = 600,\t cost = 1.4851,\t accuracy = 0.96875\n",
      "Epoch= 4,\t batch = 800,\t cost = 1.4654,\t accuracy = 1.0\n",
      "Epoch= 4,\t batch = 1000,\t cost = 1.4636,\t accuracy = 1.0\n",
      "Epoch= 4,\t batch = 1200,\t cost = 1.4927,\t accuracy = 0.96875\n",
      "Epoch= 4,\t batch = 1400,\t cost = 1.4751,\t accuracy = 1.0\n",
      "Epoch= 4,\t batch = 1600,\t cost = 1.4632,\t accuracy = 1.0\n",
      "Epoch= 4,\t batch = 1800,\t cost = 1.4845,\t accuracy = 1.0\n",
      "Epoch: 5, averaged cost = 1.4729\n",
      "Epoch= 5,\t batch = 0,\t cost = 1.4612,\t accuracy = 1.0\n",
      "Epoch= 5,\t batch = 200,\t cost = 1.4924,\t accuracy = 0.96875\n",
      "Epoch= 5,\t batch = 400,\t cost = 1.4652,\t accuracy = 1.0\n",
      "Epoch= 5,\t batch = 600,\t cost = 1.4943,\t accuracy = 0.96875\n",
      "Epoch= 5,\t batch = 800,\t cost = 1.4661,\t accuracy = 1.0\n",
      "Epoch= 5,\t batch = 1000,\t cost = 1.4885,\t accuracy = 0.96875\n",
      "Epoch= 5,\t batch = 1200,\t cost = 1.4674,\t accuracy = 1.0\n",
      "Epoch= 5,\t batch = 1400,\t cost = 1.4613,\t accuracy = 1.0\n",
      "Epoch= 5,\t batch = 1600,\t cost = 1.4880,\t accuracy = 0.96875\n",
      "Epoch= 5,\t batch = 1800,\t cost = 1.4926,\t accuracy = 0.96875\n",
      "Epoch: 6, averaged cost = 1.4718\n",
      "Epoch= 6,\t batch = 0,\t cost = 1.4746,\t accuracy = 1.0\n",
      "Epoch= 6,\t batch = 200,\t cost = 1.4755,\t accuracy = 1.0\n",
      "Epoch= 6,\t batch = 400,\t cost = 1.4624,\t accuracy = 1.0\n",
      "Epoch= 6,\t batch = 600,\t cost = 1.4880,\t accuracy = 0.96875\n",
      "Epoch= 6,\t batch = 800,\t cost = 1.4630,\t accuracy = 1.0\n",
      "Epoch= 6,\t batch = 1000,\t cost = 1.4629,\t accuracy = 1.0\n",
      "Epoch= 6,\t batch = 1200,\t cost = 1.4826,\t accuracy = 0.96875\n",
      "Epoch= 6,\t batch = 1400,\t cost = 1.4658,\t accuracy = 1.0\n",
      "Epoch= 6,\t batch = 1600,\t cost = 1.5236,\t accuracy = 0.9375\n",
      "Epoch= 6,\t batch = 1800,\t cost = 1.4628,\t accuracy = 1.0\n",
      "Epoch: 7, averaged cost = 1.4714\n",
      "Epoch= 7,\t batch = 0,\t cost = 1.4615,\t accuracy = 1.0\n",
      "Epoch= 7,\t batch = 200,\t cost = 1.4612,\t accuracy = 1.0\n",
      "Epoch= 7,\t batch = 400,\t cost = 1.4612,\t accuracy = 1.0\n",
      "Epoch= 7,\t batch = 600,\t cost = 1.4613,\t accuracy = 1.0\n",
      "Epoch= 7,\t batch = 800,\t cost = 1.4620,\t accuracy = 1.0\n",
      "Epoch= 7,\t batch = 1000,\t cost = 1.4616,\t accuracy = 1.0\n",
      "Epoch= 7,\t batch = 1200,\t cost = 1.4632,\t accuracy = 1.0\n",
      "Epoch= 7,\t batch = 1400,\t cost = 1.4624,\t accuracy = 1.0\n",
      "Epoch= 7,\t batch = 1600,\t cost = 1.4613,\t accuracy = 1.0\n",
      "Epoch= 7,\t batch = 1800,\t cost = 1.4927,\t accuracy = 0.96875\n",
      "Epoch: 8, averaged cost = 1.4705\n",
      "Epoch= 8,\t batch = 0,\t cost = 1.4614,\t accuracy = 1.0\n",
      "Epoch= 8,\t batch = 200,\t cost = 1.4853,\t accuracy = 0.96875\n",
      "Epoch= 8,\t batch = 400,\t cost = 1.4612,\t accuracy = 1.0\n",
      "Epoch= 8,\t batch = 600,\t cost = 1.4783,\t accuracy = 0.96875\n",
      "Epoch= 8,\t batch = 800,\t cost = 1.4870,\t accuracy = 0.96875\n",
      "Epoch= 8,\t batch = 1000,\t cost = 1.4622,\t accuracy = 1.0\n",
      "Epoch= 8,\t batch = 1200,\t cost = 1.4613,\t accuracy = 1.0\n",
      "Epoch= 8,\t batch = 1400,\t cost = 1.4612,\t accuracy = 1.0\n",
      "Epoch= 8,\t batch = 1600,\t cost = 1.4613,\t accuracy = 1.0\n",
      "Epoch= 8,\t batch = 1800,\t cost = 1.4613,\t accuracy = 1.0\n",
      "Epoch: 9, averaged cost = 1.4701\n",
      "Epoch= 9,\t batch = 0,\t cost = 1.4612,\t accuracy = 1.0\n",
      "Epoch= 9,\t batch = 200,\t cost = 1.4647,\t accuracy = 1.0\n",
      "Epoch= 9,\t batch = 400,\t cost = 1.4613,\t accuracy = 1.0\n",
      "Epoch= 9,\t batch = 600,\t cost = 1.4612,\t accuracy = 1.0\n",
      "Epoch= 9,\t batch = 800,\t cost = 1.4617,\t accuracy = 1.0\n",
      "Epoch= 9,\t batch = 1000,\t cost = 1.4612,\t accuracy = 1.0\n",
      "Epoch= 9,\t batch = 1200,\t cost = 1.4778,\t accuracy = 0.96875\n",
      "Epoch= 9,\t batch = 1400,\t cost = 1.4617,\t accuracy = 1.0\n",
      "Epoch= 9,\t batch = 1600,\t cost = 1.4700,\t accuracy = 1.0\n",
      "Epoch= 9,\t batch = 1800,\t cost = 1.4617,\t accuracy = 1.0\n",
      "Epoch: 10, averaged cost = 1.4697\n",
      "Epoch= 10,\t batch = 0,\t cost = 1.4615,\t accuracy = 1.0\n",
      "Epoch= 10,\t batch = 200,\t cost = 1.4612,\t accuracy = 1.0\n",
      "Epoch= 10,\t batch = 400,\t cost = 1.4633,\t accuracy = 1.0\n",
      "Epoch= 10,\t batch = 600,\t cost = 1.4697,\t accuracy = 1.0\n",
      "Epoch= 10,\t batch = 800,\t cost = 1.4620,\t accuracy = 1.0\n",
      "Epoch= 10,\t batch = 1000,\t cost = 1.4745,\t accuracy = 1.0\n",
      "Epoch= 10,\t batch = 1200,\t cost = 1.4616,\t accuracy = 1.0\n",
      "Epoch= 10,\t batch = 1400,\t cost = 1.4612,\t accuracy = 1.0\n",
      "Epoch= 10,\t batch = 1600,\t cost = 1.4629,\t accuracy = 1.0\n",
      "Epoch= 10,\t batch = 1800,\t cost = 1.4612,\t accuracy = 1.0\n",
      "Epoch: 11, averaged cost = 1.4694\n",
      "Epoch= 11,\t batch = 0,\t cost = 1.4612,\t accuracy = 1.0\n",
      "Epoch= 11,\t batch = 200,\t cost = 1.4612,\t accuracy = 1.0\n",
      "Epoch= 11,\t batch = 400,\t cost = 1.4639,\t accuracy = 1.0\n",
      "Epoch= 11,\t batch = 600,\t cost = 1.4626,\t accuracy = 1.0\n",
      "Epoch= 11,\t batch = 800,\t cost = 1.4873,\t accuracy = 0.96875\n",
      "Epoch= 11,\t batch = 1000,\t cost = 1.4631,\t accuracy = 1.0\n",
      "Epoch= 11,\t batch = 1200,\t cost = 1.4634,\t accuracy = 1.0\n",
      "Epoch= 11,\t batch = 1400,\t cost = 1.5153,\t accuracy = 0.9375\n",
      "Epoch= 11,\t batch = 1600,\t cost = 1.4652,\t accuracy = 1.0\n",
      "Epoch= 11,\t batch = 1800,\t cost = 1.4793,\t accuracy = 1.0\n",
      "Epoch: 12, averaged cost = 1.4689\n",
      "Epoch= 12,\t batch = 0,\t cost = 1.4615,\t accuracy = 1.0\n",
      "Epoch= 12,\t batch = 200,\t cost = 1.4613,\t accuracy = 1.0\n",
      "Epoch= 12,\t batch = 400,\t cost = 1.4620,\t accuracy = 1.0\n",
      "Epoch= 12,\t batch = 600,\t cost = 1.4615,\t accuracy = 1.0\n",
      "Epoch= 12,\t batch = 800,\t cost = 1.4612,\t accuracy = 1.0\n",
      "Epoch= 12,\t batch = 1000,\t cost = 1.4892,\t accuracy = 0.96875\n",
      "Epoch= 12,\t batch = 1200,\t cost = 1.4612,\t accuracy = 1.0\n",
      "Epoch= 12,\t batch = 1400,\t cost = 1.4613,\t accuracy = 1.0\n",
      "Epoch= 12,\t batch = 1600,\t cost = 1.4612,\t accuracy = 1.0\n",
      "Epoch= 12,\t batch = 1800,\t cost = 1.4641,\t accuracy = 1.0\n",
      "Epoch: 13, averaged cost = 1.4687\n",
      "Epoch= 13,\t batch = 0,\t cost = 1.4613,\t accuracy = 1.0\n",
      "Epoch= 13,\t batch = 200,\t cost = 1.4644,\t accuracy = 1.0\n",
      "Epoch= 13,\t batch = 400,\t cost = 1.4804,\t accuracy = 1.0\n",
      "Epoch= 13,\t batch = 600,\t cost = 1.4613,\t accuracy = 1.0\n",
      "Epoch= 13,\t batch = 800,\t cost = 1.5052,\t accuracy = 0.96875\n"
     ]
    },
    {
     "name": "stdout",
     "output_type": "stream",
     "text": [
      "Epoch= 13,\t batch = 1000,\t cost = 1.4613,\t accuracy = 1.0\n",
      "Epoch= 13,\t batch = 1200,\t cost = 1.4862,\t accuracy = 0.96875\n",
      "Epoch= 13,\t batch = 1400,\t cost = 1.4612,\t accuracy = 1.0\n",
      "Epoch= 13,\t batch = 1600,\t cost = 1.4614,\t accuracy = 1.0\n",
      "Epoch= 13,\t batch = 1800,\t cost = 1.4742,\t accuracy = 1.0\n",
      "Epoch: 14, averaged cost = 1.4684\n",
      "Epoch= 14,\t batch = 0,\t cost = 1.4612,\t accuracy = 1.0\n",
      "Epoch= 14,\t batch = 200,\t cost = 1.4635,\t accuracy = 1.0\n",
      "Epoch= 14,\t batch = 400,\t cost = 1.4612,\t accuracy = 1.0\n",
      "Epoch= 14,\t batch = 600,\t cost = 1.4612,\t accuracy = 1.0\n",
      "Epoch= 14,\t batch = 800,\t cost = 1.4612,\t accuracy = 1.0\n",
      "Epoch= 14,\t batch = 1000,\t cost = 1.4889,\t accuracy = 0.96875\n",
      "Epoch= 14,\t batch = 1200,\t cost = 1.4626,\t accuracy = 1.0\n",
      "Epoch= 14,\t batch = 1400,\t cost = 1.4614,\t accuracy = 1.0\n",
      "Epoch= 14,\t batch = 1600,\t cost = 1.4613,\t accuracy = 1.0\n",
      "Epoch= 14,\t batch = 1800,\t cost = 1.4612,\t accuracy = 1.0\n",
      "Epoch: 15, averaged cost = 1.4683\n",
      "Learning Finished!\n"
     ]
    }
   ],
   "source": [
    "training_epochs = 15\n",
    "total_batch = len(mnist_train) // batch_size\n",
    "\n",
    "def compute_accuracy(Y_target, hypothesis):\n",
    "    _, predicted = torch.max(hypothesis.data, 1)\n",
    "    total = Y_target.size(0)\n",
    "    correct = (predicted == Y_target).sum().item()\n",
    "\n",
    "    return correct/total\n",
    "\n",
    "\n",
    "print(\"Training Started\")\n",
    "\n",
    "for epoch in range(training_epochs):\n",
    "    avg_cost = 0\n",
    "    for i, (X, Y) in enumerate(train_loader):\n",
    "        optimizer.zero_grad()\n",
    "\n",
    "        hypothesis = model(X)\n",
    "\n",
    "        cost = criterion(hypothesis, Y)\n",
    "\n",
    "        cost.backward()\n",
    "\n",
    "        optimizer.step()\n",
    "\n",
    "        accu = compute_accuracy(Y, hypothesis)\n",
    " \n",
    "        if i % 200 == 0:\n",
    "            print(\"Epoch= {},\\t batch = {},\\t cost = {:.4f},\\t accuracy = {}\".format(epoch, i, cost.item(), accu))\n",
    "\n",
    "        avg_cost += cost.data / total_batch\n",
    "\n",
    "    print(\"Epoch: {}, averaged cost = {:.4f}\".format(epoch + 1, avg_cost.item()))\n",
    "\n",
    "\n",
    "print('Learning Finished!')"
   ]
  },
  {
   "cell_type": "code",
   "execution_count": 144,
   "metadata": {},
   "outputs": [
    {
     "name": "stdout",
     "output_type": "stream",
     "text": [
      "Test Accuracy of the model on the 10000 test images: 99.15 %\n"
     ]
    }
   ],
   "source": [
    "with torch.no_grad():\n",
    "    correct = 0\n",
    "    total = 0\n",
    "    for images, labels in test_loader:\n",
    "        images = Variable(images)\n",
    "        labels = Variable(labels)\n",
    "        outputs = model(images)\n",
    "        _, predicted = torch.max(outputs.data, 1)\n",
    "        total += labels.size(0)\n",
    "        correct += (predicted == labels).sum().item()\n",
    "\n",
    "    print('Test Accuracy of the model on the 10000 test images: {} %'.format(100 * correct / total))\n"
   ]
  }
 ],
 "metadata": {
  "kernelspec": {
   "display_name": "Python 3",
   "language": "python",
   "name": "python3"
  },
  "language_info": {
   "codemirror_mode": {
    "name": "ipython",
    "version": 3
   },
   "file_extension": ".py",
   "mimetype": "text/x-python",
   "name": "python",
   "nbconvert_exporter": "python",
   "pygments_lexer": "ipython3",
   "version": "3.7.3"
  }
 },
 "nbformat": 4,
 "nbformat_minor": 2
}
