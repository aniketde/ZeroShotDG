{
 "cells": [
  {
   "cell_type": "code",
   "execution_count": 75,
   "metadata": {},
   "outputs": [],
   "source": [
    "import torch\n",
    "import torchvision\n",
    "import torchvision.transforms as transforms\n",
    "import torchvision.datasets as datasets\n",
    "import torch.nn as nn\n",
    "import torch.nn.functional as F\n",
    "from torch.autograd import Variable\n",
    "from torchvision.utils import save_image\n",
    "def to_img(x):\n",
    "    x = x.view(x.size(0), 1, 28, 28)\n",
    "    return x"
   ]
  },
  {
   "cell_type": "code",
   "execution_count": 76,
   "metadata": {},
   "outputs": [],
   "source": [
    "transform = transforms.Compose([transforms.ToTensor()])\n",
    "\n",
    "mnist_train = datasets.MNIST(root='data/',download=False, train=True, transform=transform)\n",
    "mnist_test = datasets.MNIST(root='data/', download=False, train=False, transform=transform)\n"
   ]
  },
  {
   "cell_type": "code",
   "execution_count": 77,
   "metadata": {},
   "outputs": [],
   "source": [
    "#Loading dataset into dataloader\n",
    "batch_size = 200\n",
    "train_loader = torch.utils.data.DataLoader(dataset=mnist_train, batch_size=batch_size,shuffle=True)\n",
    "\n",
    "test_loader = torch.utils.data.DataLoader(dataset=mnist_test, batch_size=batch_size, shuffle=False)\n"
   ]
  },
  {
   "cell_type": "code",
   "execution_count": 78,
   "metadata": {},
   "outputs": [],
   "source": [
    "class Autoencoder(nn.Module):\n",
    "    def __init__(self):\n",
    "        super(Autoencoder, self).__init__()\n",
    "     \n",
    "        self.encoder = torch.nn.Sequential(\n",
    "            nn.Linear(28*28, 500,bias=True),\n",
    "            nn.ReLU(True),\n",
    "            nn.Linear(500, 100,bias=True),\n",
    "            nn.ReLU(True)\n",
    "        )\n",
    "        \n",
    "    \n",
    "        self.decoder = torch.nn.Sequential(\n",
    "            nn.Linear(100, 500,bias=True),\n",
    "            nn.ReLU(True),\n",
    "            nn.Linear(500, 28*28,bias=True),\n",
    "            nn.ReLU(True)\n",
    "        )\n",
    "\n",
    "\n",
    "    def forward(self, x):\n",
    "        out = self.encoder(x)\n",
    "        out = self.decoder(out)\n",
    "        \n",
    "        return out\n"
   ]
  },
  {
   "cell_type": "code",
   "execution_count": 79,
   "metadata": {},
   "outputs": [],
   "source": [
    "learning_rate = 0.001\n",
    "criterion = torch.nn.CrossEntropyLoss()\n",
    "\n",
    "\n",
    "model = Autoencoder()\n",
    "\n",
    "\n",
    "optimizer = torch.optim.Adam(params=model.parameters(), lr=learning_rate)\n",
    "\n",
    "criterion = nn.MSELoss()"
   ]
  },
  {
   "cell_type": "code",
   "execution_count": 80,
   "metadata": {},
   "outputs": [
    {
     "name": "stdout",
     "output_type": "stream",
     "text": [
      "Epoch= 0,\t batch = 0,\t cost = 0.1054\n",
      "Epoch= 0,\t batch = 200,\t cost = 0.0148\n",
      "Epoch: 1, averaged cost = 0.0258\n",
      "Epoch= 1,\t batch = 0,\t cost = 0.0117\n",
      "Epoch= 1,\t batch = 200,\t cost = 0.0104\n",
      "Epoch: 2, averaged cost = 0.0110\n",
      "Epoch= 2,\t batch = 0,\t cost = 0.0103\n",
      "Epoch= 2,\t batch = 200,\t cost = 0.0088\n",
      "Epoch: 3, averaged cost = 0.0094\n",
      "Learning Finished!\n"
     ]
    }
   ],
   "source": [
    "\n",
    "training_epochs = 15\n",
    "total_batch = len(mnist_train) // batch_size\n",
    "\n",
    "\n",
    "for epoch in range(training_epochs):\n",
    "    avg_cost = 0\n",
    "    for i, (X, Y) in enumerate(train_loader):\n",
    "        X = X.view(X.size(0), -1)\n",
    "        optimizer.zero_grad()\n",
    "\n",
    "        hypothesis = model(X)\n",
    "        \n",
    "        cost = criterion(hypothesis, X)\n",
    "\n",
    "        cost.backward()\n",
    "\n",
    "        optimizer.step()\n",
    "\n",
    "        if i % 200 == 0:\n",
    "            print(\"Epoch= {},\\t batch = {},\\t cost = {:.4f}\".format(epoch, i, cost.item()))\n",
    "        \n",
    "        \n",
    "            \n",
    "        avg_cost += cost.data / total_batch\n",
    "\n",
    "    \n",
    "    pic = to_img(X.cpu().data)\n",
    "    save_image(pic, './data/auto-enc/image_{}.png'.format(epoch))\n",
    "        \n",
    "    pic = to_img(hypothesis.cpu().data)\n",
    "    save_image(pic, './data/auto-enc/mod-image_{}.png'.format(epoch))\n",
    "    \n",
    "    print(\"Epoch: {}, averaged cost = {:.4f}\".format(epoch + 1, avg_cost.item()))\n",
    "\n",
    "\n",
    "print('Learning Finished!')"
   ]
  },
  {
   "cell_type": "code",
   "execution_count": null,
   "metadata": {},
   "outputs": [],
   "source": []
  }
 ],
 "metadata": {
  "kernelspec": {
   "display_name": "Python 3",
   "language": "python",
   "name": "python3"
  },
  "language_info": {
   "codemirror_mode": {
    "name": "ipython",
    "version": 3
   },
   "file_extension": ".py",
   "mimetype": "text/x-python",
   "name": "python",
   "nbconvert_exporter": "python",
   "pygments_lexer": "ipython3",
   "version": "3.7.3"
  }
 },
 "nbformat": 4,
 "nbformat_minor": 2
}
